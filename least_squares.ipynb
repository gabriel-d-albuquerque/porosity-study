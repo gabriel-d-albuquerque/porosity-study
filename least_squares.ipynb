{
 "cells": [
  {
   "cell_type": "code",
   "execution_count": 7,
   "metadata": {},
   "outputs": [
    {
     "name": "stdout",
     "output_type": "stream",
     "text": [
      " active_mask: array([0, 0])\n",
      "        cost: 7.805125966865597e-18\n",
      "         fun: array([-3.85975973e-17, -1.08420217e-19,  3.95098114e-09])\n",
      "        grad: array([-1.53227638e-24, -2.71987859e-21])\n",
      "         jac: array([[ 4.08855812e-08,  0.00000000e+00],\n",
      "       [-1.34923412e-08,  2.94376307e-03],\n",
      "       [ 1.12240418e-17, -6.07625061e-13]])\n",
      "     message: '`gtol` termination condition is satisfied.'\n",
      "        nfev: 12\n",
      "        njev: 12\n",
      "  optimality: 1.2258166380389986e-20\n",
      "      status: 1\n",
      "     success: True\n",
      "           x: array([7.20000291e+04, 3.30002428e-01])\n"
     ]
    }
   ],
   "source": [
    "import numpy as np\n",
    "import matplotlib.pyplot as plt\n",
    "import scipy as sp\n",
    "from scipy.optimize import least_squares\n",
    "\n",
    "def strain_model(p, S):\n",
    "    E = p[0]\n",
    "    v = p[1]\n",
    "    G = E/(2*(v+1))\n",
    "    A = np.array([[1/E, -v/E, 0], [-v/E, 1/E, 0], [0, 0, 1/(2*G)]])\n",
    "    EE = A.dot(S)\n",
    "    return EE.T.flatten()\n",
    "    \n",
    "def residual(p, S_fem, EE_fem):\n",
    "    EE = strain_model(p, S_fem)\n",
    "    return EE_fem.T.flatten() - EE\n",
    "\n",
    "with open('porosidade_0.7\\strain_stress_07.txt') as f:\n",
    "    E11=f.readline()\n",
    "    E22=f.readline()\n",
    "    E33=f.readline()\n",
    "    E12=f.readline()\n",
    "    S11=f.readline()\n",
    "    S22=f.readline()\n",
    "    S33=f.readline()\n",
    "    S12=f.readline()\n",
    "    RFx=f.readline()\n",
    "\n",
    "E11 = float(E11[4:])\n",
    "E22 = float(E22[4:])\n",
    "E33 = float(E33[4:])\n",
    "E12 = float(E12[4:])\n",
    "S11 = float(S11[4:])\n",
    "S22 = float(S22[4:])\n",
    "S33 = float(S33[4:])\n",
    "S12 = float(S12[4:])\n",
    "\n",
    "S_fem = np.array([S11, S22, S12])\n",
    "E_fem = np.array([E11, E22, E12]) + np.random.uniform(-1e-8, 1e-8, 3)\n",
    "\n",
    "resp = least_squares(residual, (10000, 0.2), bounds=([1000, 0.05], [80000, 0.49]), args=(S_fem, E_fem), gtol=1e-14)\n",
    "print(resp)"
   ]
  }
 ],
 "metadata": {
  "interpreter": {
   "hash": "ea3c9ce0ebec3cf4da08dabf240a89e5b0537785a3c12ba0266748762e6330c9"
  },
  "kernelspec": {
   "display_name": "Python 3.8.3 32-bit",
   "language": "python",
   "name": "python3"
  },
  "language_info": {
   "codemirror_mode": {
    "name": "ipython",
    "version": 3
   },
   "file_extension": ".py",
   "mimetype": "text/x-python",
   "name": "python",
   "nbconvert_exporter": "python",
   "pygments_lexer": "ipython3",
   "version": "3.7.6"
  },
  "orig_nbformat": 4
 },
 "nbformat": 4,
 "nbformat_minor": 2
}
